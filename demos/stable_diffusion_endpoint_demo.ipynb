{
 "cells": [
  {
   "cell_type": "code",
   "execution_count": 6,
   "id": "fa552c39",
   "metadata": {},
   "outputs": [
    {
     "name": "stdout",
     "output_type": "stream",
     "text": [
      "\u001b[32m2023-05-08 14:23:23.501\u001b[0m | \u001b[1mINFO    \u001b[0m | \u001b[36mnos.experimental.grpc.protoc\u001b[0m:\u001b[36mimport_module\u001b[0m:\u001b[36m70\u001b[0m - \u001b[1mLoading module: /app/.nos/cache/protobuf/nos_service_pb2.py\u001b[0m\n",
      "\u001b[32m2023-05-08 14:23:23.505\u001b[0m | \u001b[1mINFO    \u001b[0m | \u001b[36mnos.experimental.grpc.protoc\u001b[0m:\u001b[36mimport_module\u001b[0m:\u001b[36m70\u001b[0m - \u001b[1mLoading module: /app/.nos/cache/protobuf/nos_service_pb2_grpc.py\u001b[0m\n",
      "\u001b[?25l\u001b[1;32m ✓ Deployment complete. \u001b[0m\n",
      "\u001b[2K\u001b[32m⠋\u001b[0m \u001b[1;32m Starting server on [::]:50051\u001b[0m\n",
      "\u001b[1A\u001b[2K^C\n",
      "Traceback (most recent call last):\n",
      "  File \"/opt/conda/envs/py3_gpu/bin/nos-grpc-server\", line 8, in <module>\n",
      "    sys.exit(main())\n",
      "  File \"/app/nos/nos/experimental/grpc/server.py\", line 167, in main\n",
      "    asyncio.run(grpc_server())\n",
      "  File \"/opt/conda/envs/py3_gpu/lib/python3.8/asyncio/runners.py\", line 44, in run\n",
      "    return loop.run_until_complete(main)\n",
      "  File \"/opt/conda/envs/py3_gpu/lib/python3.8/asyncio/base_events.py\", line 603, in run_until_complete\n",
      "    self.run_forever()\n",
      "  File \"/opt/conda/envs/py3_gpu/lib/python3.8/asyncio/base_events.py\", line 570, in run_forever\n",
      "    self._run_once()\n",
      "  File \"/opt/conda/envs/py3_gpu/lib/python3.8/asyncio/base_events.py\", line 1823, in _run_once\n",
      "    event_list = self._selector.select(timeout)\n",
      "  File \"/opt/conda/envs/py3_gpu/lib/python3.8/selectors.py\", line 468, in select\n",
      "    fd_event_list = self._selector.poll(timeout, max_ev)\n",
      "KeyboardInterrupt\n",
      "\u001b[0m"
     ]
    }
   ],
   "source": [
    "# spin up the docker container for running the grpc endpoint\n",
    "!./launch_docker_grpc.sh"
   ]
  },
  {
   "cell_type": "code",
   "execution_count": 2,
   "id": "cb92606c",
   "metadata": {},
   "outputs": [
    {
     "name": "stdout",
     "output_type": "stream",
     "text": [
      "\u001b[32m2023-05-08 14:30:47.433\u001b[0m | \u001b[1mINFO    \u001b[0m | \u001b[36mnos.experimental.grpc.protoc\u001b[0m:\u001b[36mimport_module\u001b[0m:\u001b[36m70\u001b[0m - \u001b[1mLoading module: /home/scott/.nos/cache/protobuf/nos_service_pb2.py\u001b[0m\n",
      "\u001b[32m2023-05-08 14:30:47.434\u001b[0m | \u001b[1mINFO    \u001b[0m | \u001b[36mnos.experimental.grpc.protoc\u001b[0m:\u001b[36mimport_module\u001b[0m:\u001b[36m70\u001b[0m - \u001b[1mLoading module: /home/scott/.nos/cache/protobuf/nos_service_pb2_grpc.py\u001b[0m\n",
      "\u001b[2K\u001b[32m⠼\u001b[0m \u001b[1;32m Generating image ...\u001b[0m0m\n",
      "\u001b[1A\u001b[2K\u001b[1;32m ✓ Generated image \u001b[0m\u001b[1;32m(\u001b[0m\u001b[1;32m<\u001b[0m\u001b[1;32mPIL.Image.Image\u001b[0m\u001b[1;32m image \u001b[0m\u001b[1;32mmode\u001b[0m\u001b[1;32m=\u001b[0m\u001b[1;32mRGB\u001b[0m\u001b[1;32m \u001b[0m\u001b[1;32msize\u001b[0m\u001b[1;32m=\u001b[0m\u001b[1;32m512x512\u001b[0m\u001b[1;32m at \u001b[0m\n",
      "\u001b[1;32m0x7F7FE1DC98E0\u001b[0m\u001b[1;32m>\u001b[0m\u001b[1;32m...\u001b[0m\u001b[1;32m, \u001b[0m\u001b[1;32mtime\u001b[0m\u001b[1;32m=\u001b[0m\u001b[1;32m6\u001b[0m\u001b[1;32m.\u001b[0m\u001b[1;32m834s\u001b[0m\u001b[1;32m)\u001b[0m\u001b[1;32m \u001b[0m\n",
      "✓ Saved image to dog_riding_a_horse.png\n",
      "\u001b[0m"
     ]
    }
   ],
   "source": [
    "# hit the txt2img endpoint\n",
    "prompt = \"dog riding a horse\"\n",
    "!nos serve-grpc txt2img -i \"dog riding a horse\"\n",
    "filename = f\"{prompt.replace(' ', '_')}.png\"\n",
    "from PIL import Image\n",
    "img = Image.open(filename)\n",
    "img.show()"
   ]
  },
  {
   "cell_type": "code",
   "execution_count": null,
   "id": "b3be170e",
   "metadata": {},
   "outputs": [],
   "source": []
  }
 ],
 "metadata": {
  "kernelspec": {
   "display_name": "Python 3 (ipykernel)",
   "language": "python",
   "name": "python3"
  },
  "language_info": {
   "codemirror_mode": {
    "name": "ipython",
    "version": 3
   },
   "file_extension": ".py",
   "mimetype": "text/x-python",
   "name": "python",
   "nbconvert_exporter": "python",
   "pygments_lexer": "ipython3",
   "version": "3.10.6"
  }
 },
 "nbformat": 4,
 "nbformat_minor": 5
}
