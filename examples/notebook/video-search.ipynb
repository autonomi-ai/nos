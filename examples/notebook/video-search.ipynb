{
 "cells": [
  {
   "cell_type": "markdown",
   "metadata": {},
   "source": [
    "<img src=\"https://drive.google.com/uc?export=view&id=1JIIlkTWa2xbft5bTpzhGK1BxYL83bJNU\" width=\"800\"/>"
   ]
  },
  {
   "cell_type": "code",
   "execution_count": null,
   "metadata": {},
   "outputs": [],
   "source": [
    "from IPython.display import display, HTML\n",
    "display(HTML(\"<style>.container { width:100% !important; }</style>\"))"
   ]
  },
  {
   "cell_type": "markdown",
   "metadata": {
    "editable": true,
    "slideshow": {
     "slide_type": ""
    },
    "tags": []
   },
   "source": [
    "# 🔥 Video Search Demo\n",
    "---"
   ]
  },
  {
   "cell_type": "markdown",
   "metadata": {},
   "source": [
    "In this demo, we’ll use NOS to build an end-to-end semantic video search utility."
   ]
  },
  {
   "cell_type": "code",
   "execution_count": null,
   "metadata": {},
   "outputs": [],
   "source": [
    "from nos.test.utils import get_benchmark_video\n",
    "get_benchmark_video()\n",
    "FILENAME = \"test_video.mp4\""
   ]
  },
  {
   "cell_type": "markdown",
   "metadata": {},
   "source": [
    "#### Frame Inference\n",
    "\n",
    "Let's embed the video frame by frame with NOS. We'll start by connecting a client to the NOS server:"
   ]
  },
  {
   "cell_type": "code",
   "execution_count": null,
   "metadata": {
    "tags": []
   },
   "outputs": [],
   "source": [
    "from nos.common.io.video.opencv import VideoReader\n",
    "from nos.client import Client, TaskType\n",
    "\n",
    "client = Client()\n",
    "client.WaitForServer()\n",
    "client.IsHealthy()"
   ]
  },
  {
   "cell_type": "markdown",
   "metadata": {},
   "source": [
    "Now lets use the client to embed the video frame by frame into a stack of feature vectors. This should take a couple of minutes:"
   ]
  },
  {
   "cell_type": "code",
   "execution_count": null,
   "metadata": {
    "tags": []
   },
   "outputs": [],
   "source": [
    "from nos.common import tqdm\n",
    "from nos.common.io.video.opencv import VideoReader\n",
    "import torch\n",
    "import numpy as np\n",
    "from itertools import islice\n",
    "\n",
    "images = VideoReader(FILENAME)\n",
    "features = []\n",
    "\n",
    "for img in tqdm(images):\n",
    "    features.append(client.Run(TaskType.IMAGE_EMBEDDING, \"openai/clip\", inputs={\"images\" : img})['embedding'])\n",
    "\n",
    "# normalize embeddings\n",
    "video_features = torch.from_numpy(np.stack(features))\n",
    "video_features /= video_features.norm(dim=-1, keepdim=True)"
   ]
  },
  {
   "cell_type": "markdown",
   "metadata": {},
   "source": [
    "Let's define our search function. we'll embed the text query (using the NOS openai/clip endpoint) and dot it with the video features to generate per-frame similarity scores before returning the top result."
   ]
  },
  {
   "cell_type": "code",
   "execution_count": null,
   "metadata": {
    "tags": []
   },
   "outputs": [],
   "source": [
    "from IPython.display import HTML, display\n",
    "from nos.common.io import VideoReader\n",
    "from PIL import Image\n",
    "\n",
    "video = VideoReader(FILENAME)\n",
    "\n",
    "def search_video(query: str, video_features: np.ndarray, topk: int = 3):\n",
    "    \"\"\"Semantic video search demo in 8 lines of code\"\"\"\n",
    "    # Encode text and normalize\n",
    "    with torch.inference_mode():\n",
    "        text_features = client.Run(TaskType.TEXT_EMBEDDING, \"openai/clip\", inputs={\"texts\":[query]})[\"embedding\"]\n",
    "        text_features = torch.from_numpy(text_features)\n",
    "        text_features /= text_features.norm(dim=-1, keepdim=True)\n",
    "\n",
    "    # Compute the similarity between the search query and each video frame\n",
    "    similarities = (video_features @ text_features.T)\n",
    "    _, best_photo_idx = similarities.topk(topk, dim=0)\n",
    "    \n",
    "    # Display the top k frames\n",
    "    results = np.hstack([video[int(frame_id)] for frame_id in best_photo_idx])\n",
    "    filepath = '_'.join(query.split(' ')) + '.png'\n",
    "    Image.fromarray(results).resize((600, 400)).save(filepath)"
   ]
  },
  {
   "cell_type": "markdown",
   "metadata": {},
   "source": [
    "\n"
   ]
  },
  {
   "cell_type": "markdown",
   "metadata": {},
   "source": [
    "Now let's try out a few queries:"
   ]
  },
  {
   "cell_type": "code",
   "execution_count": null,
   "metadata": {
    "tags": []
   },
   "outputs": [],
   "source": [
    "search_video(\"bakery with bread on the shelves\", video_features, topk=1)"
   ]
  },
  {
   "cell_type": "code",
   "execution_count": null,
   "metadata": {
    "tags": []
   },
   "outputs": [],
   "source": [
    "search_video(\"red car on a street\", video_features, topk=1)"
   ]
  },
  {
   "cell_type": "code",
   "execution_count": null,
   "metadata": {
    "tags": []
   },
   "outputs": [],
   "source": [
    "search_video(\"bridge over river\", video_features, topk=1)"
   ]
  },
  {
   "cell_type": "code",
   "execution_count": null,
   "metadata": {},
   "outputs": [],
   "source": []
  }
 ],
 "metadata": {
  "kernelspec": {
   "display_name": "Python 3 (ipykernel)",
   "language": "python",
   "name": "python3"
  },
  "language_info": {
   "codemirror_mode": {
    "name": "ipython",
    "version": 3
   },
   "file_extension": ".py",
   "mimetype": "text/x-python",
   "name": "python",
   "nbconvert_exporter": "python",
   "pygments_lexer": "ipython3",
   "version": "3.8.17"
  }
 },
 "nbformat": 4,
 "nbformat_minor": 4
}
