{
 "cells": [
  {
   "cell_type": "code",
   "execution_count": null,
   "id": "314879f8-1781-46d7-b28d-1a1ae0f19d74",
   "metadata": {},
   "outputs": [],
   "source": [
    "from IPython.display import display, HTML\n",
    "display(HTML(\"<style>.container { width:100% !important; }</style>\"))"
   ]
  },
  {
   "cell_type": "code",
   "execution_count": null,
   "id": "7a949e70-08bf-4909-91b8-80309fb889a0",
   "metadata": {},
   "outputs": [],
   "source": [
    "import json\n",
    "import pandas as pd\n",
    "from pathlib import Path\n",
    "\n",
    "pd.set_option(\"mode.chained_assignment\", None)\n",
    "pd.set_option('display.max_colwidth', 0)\n",
    "pd.set_option('display.max_rows', 500)\n",
    "pd.set_option('display.max_columns', None)"
   ]
  },
  {
   "cell_type": "code",
   "execution_count": null,
   "id": "24eefc9c-bc1c-407c-b793-c91ead483428",
   "metadata": {},
   "outputs": [],
   "source": [
    "import nos\n",
    "\n",
    "# Load all benchmarks within the .nos/benchmark directory\n",
    "NOS_BENCHMARK_DIR = Path(nos.__file__).parent.parent / \".nos/benchmark\"\n",
    "print(f\"Loading profiles in {NOS_BENCHMARK_DIR}\")\n",
    "benchmarks = list(Path(NOS_BENCHMARK_DIR).rglob(\"*.json\"))\n",
    "benchmarks"
   ]
  },
  {
   "cell_type": "code",
   "execution_count": null,
   "id": "e913ee63-4d3a-43f5-82ff-8b95c46283b7",
   "metadata": {},
   "outputs": [],
   "source": [
    "df = pd.concat([pd.read_json(b) for b in benchmarks])\n",
    "df"
   ]
  },
  {
   "cell_type": "code",
   "execution_count": null,
   "id": "ff8dc3a8-3465-4542-89c1-c0b17f0f099f",
   "metadata": {},
   "outputs": [],
   "source": [
    "from nos.common.profiler import NOS_PROFILE_DIR\n",
    "from nos.common.profiler import Profiler\n",
    "\n",
    "# Load all profiles within the cache/profile directory\n",
    "print(f\"Loading profiles in {NOS_PROFILE_DIR}\")\n",
    "profiles = list(Path(NOS_PROFILE_DIR).rglob(\"*.json\"))"
   ]
  },
  {
   "cell_type": "code",
   "execution_count": null,
   "id": "ffde5260-d5de-47d7-a7b4-34f6f78d1717",
   "metadata": {},
   "outputs": [],
   "source": [
    "# Load all profiles into a dataframe\n",
    "def load_profile(filename):\n",
    "    try:\n",
    "        print(f\"Loading {filename}\")\n",
    "        return Profiler.load_records(filename)\n",
    "    except:\n",
    "        print(f\"Failed to load {filename}\")\n",
    "df = pd.concat([load_profile(p) for p in profiles])\n",
    "print(f\"Loaded profiles: {len(df)}\")\n",
    "\n",
    "# Rename columns names with profile_data.* \n",
    "df = df.rename(columns={col: col.replace(\"profile_data.\", \"\") for col in df.columns})\n",
    "\n",
    "# Convert memory columns to GB\n",
    "for col in df.columns:\n",
    "    if \"::memory_\" in col:\n",
    "        df[col] /= 1024 **3"
   ]
  },
  {
   "cell_type": "code",
   "execution_count": null,
   "id": "a7ff250c-68ac-4f99-8f16-0eec1bb49cc2",
   "metadata": {},
   "outputs": [],
   "source": [
    "df.T"
   ]
  },
  {
   "cell_type": "code",
   "execution_count": null,
   "id": "479841bd-d100-417e-bff1-d80eeaf978ca",
   "metadata": {},
   "outputs": [],
   "source": [
    "df = df.assign(\n",
    "    latency_ms=lambda x: x[\"forward::execution.total_ms\"] / x[\"forward::execution.num_iterations\"],\n",
    "    throughput=lambda x: x[\"forward::execution.num_iterations\"] * x[\"batch_size\"] / (x[\"forward::execution.total_ms\"] / 1e3),\n",
    "    gpu_utilization=lambda x: x[\"forward::execution.gpu_utilization\"],\n",
    "    cpu_utilization=lambda x: x[\"forward::execution.cpu_utilization\"],\n",
    "    cuda_torch_mem_usage_gb=lambda x: x[\"init::memory_gpu::post\"],\n",
    "    cuda_mem_usage_gb=lambda x: x[\"forward::memory_gpu::post\"] - x[\"init::memory_gpu::pre\"],\n",
    "    model_id = lambda x: x[\"namespace\"].astype(str) + \" [b=\" + x[\"batch_size\"].astype(str) + \", d=\" + x[\"device_index\"].astype(str) + \", \" + x[\"device_name\"].astype(str) + \"]\"\n",
    ")"
   ]
  },
  {
   "cell_type": "code",
   "execution_count": null,
   "id": "ff667baf-27ee-4350-9b00-5a9a8ce86104",
   "metadata": {},
   "outputs": [],
   "source": [
    "df.T"
   ]
  },
  {
   "cell_type": "code",
   "execution_count": null,
   "id": "6cdcafda-7201-45cd-8ca9-dba644b86879",
   "metadata": {},
   "outputs": [],
   "source": [
    "from datetime import datetime\n",
    "from pathlib import Path\n",
    "from IPython.display import FileLink, FileLinks\n",
    "\n",
    "date_str = datetime.utcnow().strftime(\"%Y%m%d\")\n",
    "path = Path.cwd() / f\"profiles/nos_profile_aggregate_{date_str}.csv\"\n",
    "path.parent.mkdir(parents=True, exist_ok=True)\n",
    "\n",
    "df.to_csv(str(path), index=False)\n",
    "FileLink(path.relative_to(Path.cwd()))"
   ]
  },
  {
   "cell_type": "code",
   "execution_count": null,
   "id": "c3d0364c-0c22-4967-a856-3fb02eb152f1",
   "metadata": {},
   "outputs": [],
   "source": [
    "!pip install pygsheets"
   ]
  },
  {
   "cell_type": "code",
   "execution_count": null,
   "id": "3d0011af-5f44-4119-afa8-5ae293dfdb8e",
   "metadata": {},
   "outputs": [],
   "source": [
    "import pygsheets\n",
    "\n",
    "def write_to_gsheet(client_secret, spreadsheet_id, sheet_name, data_df):\n",
    "    \"\"\"\n",
    "    this function takes data_df and writes it under spreadsheet_id\n",
    "    and sheet_name using your credentials under service_file_path\n",
    "    \"\"\"\n",
    "    gc = pygsheets.authorize(client_secret=client_secret)\n",
    "    sh = gc.open_by_key(spreadsheet_id)\n",
    "    try:\n",
    "        sh.add_worksheet(sheet_name)\n",
    "    except:\n",
    "        pass\n",
    "    wks_write = sh.worksheet_by_title(sheet_name)\n",
    "    wks_write.clear('A1',None,'*')\n",
    "    wks_write.set_dataframe(data_df, (1,1), encoding='utf-8', fit=True)\n",
    "    wks_write.frozen_rows = 1\n",
    "\n",
    "# Upload to nos-benchmarks\n",
    "# Note: Download the client creds JSON from here: \n",
    "#    https://console.cloud.google.com/apis/credentials/oauthclient/851725070723-anse9hqc5clo0qm3lgtvshs5nnku8lhh.apps.googleusercontent.com?project=nos-benchmarks\n",
    "WORKSHEET_ID = \"14Ee2PR8c-1yQg6MCcElYymW67sjdSBlG-1AGW3Yuf2w\"\n",
    "date_str = datetime.utcnow().strftime(\"%Y%m%d\")\n",
    "write_to_gsheet(\"creds.json\", WORKSHEET_ID, f\"nos-benchmarks-{date_str}\", df)\n",
    "write_to_gsheet(\"creds.json\", WORKSHEET_ID, f\"nos-benchmarks\", df)"
   ]
  },
  {
   "cell_type": "code",
   "execution_count": null,
   "id": "c3ed9ed9-d49c-4d74-85b7-2a549397641e",
   "metadata": {},
   "outputs": [],
   "source": []
  }
 ],
 "metadata": {
  "kernelspec": {
   "display_name": "Python 3 (ipykernel)",
   "language": "python",
   "name": "python3"
  },
  "language_info": {
   "codemirror_mode": {
    "name": "ipython",
    "version": 3
   },
   "file_extension": ".py",
   "mimetype": "text/x-python",
   "name": "python",
   "nbconvert_exporter": "python",
   "pygments_lexer": "ipython3",
   "version": "3.8.10"
  }
 },
 "nbformat": 4,
 "nbformat_minor": 5
}
