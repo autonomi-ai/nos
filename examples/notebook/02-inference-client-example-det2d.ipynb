{
 "cells": [
  {
   "cell_type": "code",
   "execution_count": null,
   "id": "467d0a92",
   "metadata": {},
   "outputs": [],
   "source": [
    "from IPython.display import display, HTML\n",
    "display(HTML(\"<style>.container { width:100% !important; }</style>\"))"
   ]
  },
  {
   "cell_type": "code",
   "execution_count": null,
   "id": "28ae8bc8",
   "metadata": {},
   "outputs": [],
   "source": [
    "import cv2\n",
    "import numpy as np\n",
    "import pandas as pd\n",
    "pd.set_option('display.max_colwidth', 0)\n",
    "\n",
    "from nos.client import InferenceClient, TaskType"
   ]
  },
  {
   "cell_type": "markdown",
   "id": "87c17875",
   "metadata": {},
   "source": [
    "### Inference Client API"
   ]
  },
  {
   "cell_type": "code",
   "execution_count": null,
   "id": "9c91745d",
   "metadata": {},
   "outputs": [],
   "source": [
    "client = InferenceClient()"
   ]
  },
  {
   "cell_type": "code",
   "execution_count": null,
   "id": "b5537b51",
   "metadata": {},
   "outputs": [],
   "source": [
    "client.WaitForServer()"
   ]
  },
  {
   "cell_type": "code",
   "execution_count": null,
   "id": "9abc3b58",
   "metadata": {},
   "outputs": [],
   "source": [
    "client.IsHealthy()"
   ]
  },
  {
   "cell_type": "markdown",
   "id": "8930d090",
   "metadata": {},
   "source": [
    "### List all available models"
   ]
  },
  {
   "cell_type": "code",
   "execution_count": null,
   "id": "9054cb5f",
   "metadata": {},
   "outputs": [],
   "source": [
    "models = client.ListModels()\n",
    "models_df = pd.DataFrame(models)\n",
    "models_df"
   ]
  },
  {
   "cell_type": "markdown",
   "id": "802bb542",
   "metadata": {},
   "source": [
    "### Get model input/output signatures"
   ]
  },
  {
   "cell_type": "code",
   "execution_count": null,
   "id": "ae711641",
   "metadata": {},
   "outputs": [],
   "source": [
    "signatures = [client.GetModelInfo(spec).signature for spec in models]\n",
    "pd.DataFrame(signatures)"
   ]
  },
  {
   "cell_type": "markdown",
   "id": "d2271ff2",
   "metadata": {},
   "source": [
    "### Load image"
   ]
  },
  {
   "cell_type": "code",
   "execution_count": null,
   "id": "e388b67b",
   "metadata": {},
   "outputs": [],
   "source": [
    "import requests\n",
    "from PIL import Image\n",
    "\n",
    "url = \"https://raw.githubusercontent.com/open-mmlab/mmdetection/main/demo/demo.jpg\"\n",
    "img = Image.open(requests.get(url, stream=True).raw).resize((640, 480))\n",
    "images = [img]\n",
    "img"
   ]
  },
  {
   "cell_type": "markdown",
   "id": "82c8d647",
   "metadata": {},
   "source": [
    "### Run object detection"
   ]
  },
  {
   "cell_type": "code",
   "execution_count": null,
   "id": "26edddc8",
   "metadata": {},
   "outputs": [],
   "source": [
    "predictions = client.Run(TaskType.OBJECT_DETECTION_2D, \"yolox/small\", images=images)\n",
    "for idx, (bboxes, scores, labels) in enumerate(zip(predictions[\"bboxes\"], predictions[\"scores\"], predictions[\"scores\"])):\n",
    "    print(idx, bboxes.shape, scores.shape, labels.shape)"
   ]
  },
  {
   "cell_type": "code",
   "execution_count": null,
   "id": "ccd33bcd",
   "metadata": {},
   "outputs": [],
   "source": [
    "%%timeit -n 10 -r 10\n",
    "predictions = client.Run(TaskType.OBJECT_DETECTION_2D, \"yolox/small\", images=images)"
   ]
  },
  {
   "cell_type": "code",
   "execution_count": null,
   "id": "74f7ce4c",
   "metadata": {},
   "outputs": [],
   "source": [
    "predictions = client.Run(TaskType.OBJECT_DETECTION_2D, \"yolox/medium\", images=images)"
   ]
  },
  {
   "cell_type": "code",
   "execution_count": null,
   "id": "c31a96ee",
   "metadata": {},
   "outputs": [],
   "source": [
    "%%timeit -n 100\n",
    "predictions = client.Run(TaskType.OBJECT_DETECTION_2D, \"yolox/medium\", images=images)"
   ]
  },
  {
   "cell_type": "markdown",
   "id": "41fd65cd",
   "metadata": {},
   "source": [
    "### Visualize object detection"
   ]
  },
  {
   "cell_type": "code",
   "execution_count": null,
   "id": "c7a2d226",
   "metadata": {},
   "outputs": [],
   "source": [
    "def visualize_det2d(vis: np.ndarray, bboxes: np.ndarray, labels: np.ndarray) -> np.ndarray:\n",
    "    for bbox, label in zip(bboxes.astype(np.int32), labels):\n",
    "        cv2.rectangle(vis, (bbox[0], bbox[1]), (bbox[2], bbox[3]), (0, 255, 0), 2)\n",
    "    return vis"
   ]
  },
  {
   "cell_type": "code",
   "execution_count": null,
   "id": "d3a4566c",
   "metadata": {},
   "outputs": [],
   "source": [
    "for idx, (img, bboxes, scores, labels) in enumerate(zip(images, predictions[\"bboxes\"], predictions[\"scores\"], predictions[\"scores\"])):\n",
    "    display(Image.fromarray(visualize_det2d(np.asarray(img).copy(), bboxes, labels)))"
   ]
  },
  {
   "cell_type": "code",
   "execution_count": null,
   "id": "5492a0b8",
   "metadata": {},
   "outputs": [],
   "source": [
    "# Filter models by task\n",
    "predictions = {}\n",
    "for model_name in models_df[models_df.task == TaskType.OBJECT_DETECTION_2D].name:\n",
    "    print(model_name)\n",
    "    predictions[model_name] = client.Run(TaskType.OBJECT_DETECTION_2D, model_name, images=images)"
   ]
  },
  {
   "cell_type": "code",
   "execution_count": null,
   "id": "bb6400bb",
   "metadata": {},
   "outputs": [],
   "source": [
    "predictions"
   ]
  },
  {
   "cell_type": "code",
   "execution_count": null,
   "id": "29ad8034",
   "metadata": {},
   "outputs": [],
   "source": [
    "predictions_vis = []\n",
    "for name, pred in predictions.items():\n",
    "    if pred is None: \n",
    "        continue\n",
    "    for idx, (img, bboxes, scores, labels) in enumerate(zip(images, pred[\"bboxes\"], pred[\"scores\"], pred[\"labels\"])):\n",
    "        print(name)\n",
    "        vis = Image.fromarray(visualize_det2d(np.asarray(img), bboxes, labels))\n",
    "        predictions_vis.append(vis)"
   ]
  },
  {
   "cell_type": "code",
   "execution_count": null,
   "id": "262ecdbf",
   "metadata": {},
   "outputs": [],
   "source": [
    "import math\n",
    "from PIL import Image, ImageDraw, ImageFont\n",
    "\n",
    "\n",
    "def image_grid(imgs, rows, cols, captions = None):\n",
    "    w, h = imgs[0].size\n",
    "    grid = Image.new(\"RGB\", size=(cols * w, rows * h))\n",
    "    grid_w, grid_h = grid.size\n",
    "\n",
    "    if captions is None:\n",
    "        captions = [f\"image_{i}\" for i in range(len(imgs))]\n",
    "    for i, (img, caption) in enumerate(zip(imgs, captions)):\n",
    "        draw = ImageDraw.Draw(img)\n",
    "        draw.text((0, 0), caption, (255,255,255))\n",
    "        grid.paste(img, box=(i % cols * w, i // cols * h))\n",
    "    return grid\n",
    "\n",
    "\n",
    "display(image_grid(predictions_vis, math.ceil(len(predictions_vis) / 3.), 3, captions=list(predictions.keys())))"
   ]
  },
  {
   "cell_type": "markdown",
   "id": "97997162",
   "metadata": {},
   "source": [
    "### Run object detection on a full video"
   ]
  },
  {
   "cell_type": "code",
   "execution_count": null,
   "id": "6871718f",
   "metadata": {},
   "outputs": [],
   "source": [
    "det2d = client.Module(TaskType.OBJECT_DETECTION_2D, \"yolox/medium-trt\")\n",
    "predictions = det2d(images=images)"
   ]
  },
  {
   "cell_type": "code",
   "execution_count": null,
   "id": "61246a8d",
   "metadata": {},
   "outputs": [],
   "source": [
    "%%timeit -n 100\n",
    "predictions = det2d(images=images)"
   ]
  },
  {
   "cell_type": "code",
   "execution_count": null,
   "id": "b82c1edc",
   "metadata": {},
   "outputs": [],
   "source": [
    "import uuid\n",
    "from itertools import islice\n",
    "from tqdm import tqdm\n",
    "from PIL import Image\n",
    "import numpy as np\n",
    "\n",
    "from nos.common.io import VideoReader, VideoWriter\n",
    "\n",
    "video = VideoReader(\"/data/videos/tests/video_intelligence/test_video_intelligence.mp4\")\n",
    "\n",
    "filename = f\"{str(uuid.uuid4())}.mp4\"\n",
    "writer = VideoWriter(filename)\n",
    "for idx in tqdm(range(0, len(video), 10)):\n",
    "    img = Image.fromarray(video[idx])\n",
    "    W, H = img.size\n",
    "    img = img.resize((640, 480))\n",
    "    pred = det2d(images=[img])\n",
    "    for (bboxes, scores, labels) in zip(pred[\"bboxes\"], pred[\"scores\"], pred[\"labels\"]):\n",
    "        vis = visualize_det2d(np.asarray(img).copy(), bboxes, labels)\n",
    "    vis = cv2.resize(vis, (W, H), interpolation=cv2.INTER_AREA)\n",
    "    writer.write(vis)\n",
    "writer.close()\n",
    "print(f\"Written video: {filename}\")"
   ]
  },
  {
   "cell_type": "code",
   "execution_count": null,
   "id": "465b3d6a",
   "metadata": {},
   "outputs": [],
   "source": [
    "from IPython.display import Video\n",
    "\n",
    "Video(filename, width=W, height=H, embed=True)"
   ]
  },
  {
   "cell_type": "code",
   "execution_count": null,
   "id": "3dd757c1",
   "metadata": {},
   "outputs": [],
   "source": []
  }
 ],
 "metadata": {
  "kernelspec": {
   "display_name": "Python 3 (ipykernel)",
   "language": "python",
   "name": "python3"
  },
  "language_info": {
   "codemirror_mode": {
    "name": "ipython",
    "version": 3
   },
   "file_extension": ".py",
   "mimetype": "text/x-python",
   "name": "python",
   "nbconvert_exporter": "python",
   "pygments_lexer": "ipython3",
   "version": "3.8.10"
  }
 },
 "nbformat": 4,
 "nbformat_minor": 5
}
