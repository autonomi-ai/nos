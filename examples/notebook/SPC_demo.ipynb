{
 "cells": [
  {
   "cell_type": "code",
   "execution_count": null,
   "id": "5aeb78b4",
   "metadata": {},
   "outputs": [],
   "source": [
    "from nos.client import InferenceClient, TaskType\n",
    "\n",
    "# Create a client that connects to the inference server via gRPC (50051)\n",
    "client = InferenceClient()"
   ]
  },
  {
   "cell_type": "code",
   "execution_count": null,
   "id": "96a90a74",
   "metadata": {},
   "outputs": [],
   "source": [
    "client.WaitForServer()"
   ]
  },
  {
   "cell_type": "code",
   "execution_count": null,
   "id": "5b48542b",
   "metadata": {},
   "outputs": [],
   "source": [
    "client.IsHealthy()"
   ]
  },
  {
   "cell_type": "code",
   "execution_count": null,
   "id": "18f7a516",
   "metadata": {},
   "outputs": [],
   "source": [
    "import requests\n",
    "from PIL import Image\n",
    "\n",
    "\n",
    "url = \"https://raw.githubusercontent.com/open-mmlab/mmdetection/main/demo/demo.jpg\"\n",
    "img = Image.open(requests.get(url, stream=True).raw).resize((640, 480))\n",
    "img"
   ]
  },
  {
   "cell_type": "code",
   "execution_count": null,
   "id": "73bbd73f",
   "metadata": {},
   "outputs": [],
   "source": [
    "import cv2\n",
    "import numpy as np\n",
    "\n",
    "def visualize_det2d(img: np.ndarray, bboxes: np.ndarray, labels: np.ndarray) -> np.ndarray:\n",
    "    \"\"\"Visualize 2D detection results on an image.\"\"\"\n",
    "    vis = np.asarray(img).copy()\n",
    "    for bbox, label in zip(bboxes.astype(np.int32), labels):\n",
    "        cv2.rectangle(vis, (bbox[0], bbox[1]), (bbox[2], bbox[3]), (0, 255, 0), 2)\n",
    "    return vis\n",
    "\n",
    "# Run YOLOX prediction on the image and get the prediction results as a dictionary.\n",
    "# predictions = {\"bboxes\", \"scores\", \"labels\"}.\n",
    "predictions = client.Run(TaskType.OBJECT_DETECTION_2D, \"yolox/medium\", images=[img])\n",
    "for idx, (img, bboxes, scores, labels) in enumerate(zip([img], predictions[\"bboxes\"], predictions[\"scores\"], predictions[\"scores\"])):\n",
    "    display(Image.fromarray(visualize_det2d(img, bboxes, labels)))"
   ]
  },
  {
   "cell_type": "code",
   "execution_count": null,
   "id": "41f42dae",
   "metadata": {},
   "outputs": [],
   "source": [
    "# Let's do the same for yolox/nano-trt (The TensorRT version of the above model). Note that this one will take a bit longer on the first pass since we need to compile it first.\n",
    "predictions = client.Run(TaskType.OBJECT_DETECTION_2D, \"yolox/medium-trt\", images=[img])\n",
    "for idx, (img, bboxes, scores, labels) in enumerate(zip([img], predictions[\"bboxes\"], predictions[\"scores\"], predictions[\"scores\"])):\n",
    "    display(Image.fromarray(visualize_det2d(img, bboxes, labels)))"
   ]
  },
  {
   "cell_type": "code",
   "execution_count": null,
   "id": "971a5abe",
   "metadata": {},
   "outputs": [],
   "source": [
    "%%timeit -n 100\n",
    "predictions = client.Run(TaskType.OBJECT_DETECTION_2D, \"yolox/medium\", images=[img])"
   ]
  },
  {
   "cell_type": "code",
   "execution_count": null,
   "id": "b0c93487",
   "metadata": {},
   "outputs": [],
   "source": [
    "# Run a single prediction with TRT to trigger compilation so we don't skew timing results\n",
    "predictions = client.Run(TaskType.OBJECT_DETECTION_2D, \"yolox/medium-trt\", images=[img]) "
   ]
  },
  {
   "cell_type": "code",
   "execution_count": null,
   "id": "f8c8b6ff",
   "metadata": {},
   "outputs": [],
   "source": [
    "%%timeit -n 100\n",
    "predictions = client.Run(TaskType.OBJECT_DETECTION_2D, \"yolox/medium-trt\", images=[img])"
   ]
  },
  {
   "cell_type": "code",
   "execution_count": null,
   "id": "f3e3d66e",
   "metadata": {},
   "outputs": [],
   "source": []
  }
 ],
 "metadata": {
  "kernelspec": {
   "display_name": "Python 3 (ipykernel)",
   "language": "python",
   "name": "python3"
  },
  "language_info": {
   "codemirror_mode": {
    "name": "ipython",
    "version": 3
   },
   "file_extension": ".py",
   "mimetype": "text/x-python",
   "name": "python",
   "nbconvert_exporter": "python",
   "pygments_lexer": "ipython3",
   "version": "3.9.15"
  }
 },
 "nbformat": 4,
 "nbformat_minor": 5
}
