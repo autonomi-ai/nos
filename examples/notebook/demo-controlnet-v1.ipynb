{
 "cells": [
  {
   "cell_type": "code",
   "execution_count": null,
   "metadata": {},
   "outputs": [],
   "source": [
    "from diffusers.utils import load_image\n",
    "\n",
    "img = load_image(\n",
    "    \"https://hf.co/datasets/huggingface/documentation-images/resolve/main/diffusers/input_image_vermeer.png\"\n",
    ")\n",
    "img = img.resize((512, 512))"
   ]
  },
  {
   "cell_type": "code",
   "execution_count": null,
   "metadata": {},
   "outputs": [],
   "source": [
    "# Models are downloaded to `HF_HOME/hub/models--lllyasviel--Annotators`\n",
    "from IPython.display import display\n",
    "from controlnet_aux.processor import Processor, MODELS\n",
    "import controlnet_aux\n",
    "\n",
    "print(controlnet_aux.__version__)\n",
    "keys = set(MODELS.keys())\n",
    "processors = list(keys - {\"zoe\", \"mediapipe_face\"})\n",
    "print(processors)"
   ]
  },
  {
   "cell_type": "code",
   "execution_count": null,
   "metadata": {},
   "outputs": [],
   "source": [
    "for proc_id in processors:\n",
    "    print(f\"Processor: {proc_id}\")\n",
    "    processor = Processor(proc_id)\n",
    "    proc_img = processor(img, to_bytes=False)\n",
    "    display(proc_img)"
   ]
  },
  {
   "cell_type": "code",
   "execution_count": null,
   "metadata": {},
   "outputs": [],
   "source": [
    "from diffusers import StableDiffusionControlNetPipeline, ControlNetModel\n",
    "from diffusers import UniPCMultistepScheduler\n",
    "import torch\n",
    "\n",
    "\n",
    "# CompVis/stable-diffusion-v1-4, runwayml/stable-diffusion-v1-5, stabilityai/stable-diffusion-2-1\n",
    "controlnet = ControlNetModel.from_pretrained(\"lllyasviel/sd-controlnet-depth\", torch_dtype=torch.float16)\n",
    "pipe = StableDiffusionControlNetPipeline.from_pretrained(\n",
    "    \"runwayml/stable-diffusion-v1-5\", controlnet=controlnet, torch_dtype=torch.float16\n",
    ")\n",
    "pipe.scheduler = UniPCMultistepScheduler.from_config(pipe.scheduler.config)\n",
    "pipe.enable_model_cpu_offload()\n",
    "# pipe.enable_xformers_memory_efficient_attention()"
   ]
  },
  {
   "cell_type": "code",
   "execution_count": null,
   "metadata": {},
   "outputs": [],
   "source": [
    "from PIL import Image, ImageDraw\n",
    "\n",
    "\n",
    "# font = ImageFont.truetype(<font-file>, <font-size>)\n",
    "font = ImageFont.truetype(\"sans-serif.ttf\", 16)\n",
    "# draw.text((x, y),\"Sample Text\",(r,g,b))\n",
    "\n",
    "\n",
    "\n",
    "def image_grid(imgs, rows, cols):\n",
    "    assert len(imgs) == rows * cols\n",
    "\n",
    "    w, h = imgs[0].size\n",
    "    grid = Image.new(\"RGB\", size=(cols * w, rows * h))\n",
    "    grid_w, grid_h = grid.size\n",
    "\n",
    "    for i, img in enumerate(imgs):\n",
    "        draw = ImageDraw.Draw(grid)\n",
    "        draw.text((0, 0),\"Sample Text\",(255,255,255),font=font)\n",
    "        grid.paste(img, box=(i % cols * w, i // cols * h))\n",
    "    return grid"
   ]
  },
  {
   "cell_type": "code",
   "execution_count": null,
   "metadata": {},
   "outputs": [],
   "source": [
    "prompt = \", best quality, extremely detailed\"\n",
    "prompt = [t + prompt for t in [\"Sandra Oh\", \"beyonce\", \"oprah\", \"michelle obama\"]]\n",
    "generator = [torch.Generator(device=\"cpu\").manual_seed(2) for i in range(len(prompt))]"
   ]
  },
  {
   "cell_type": "code",
   "execution_count": null,
   "metadata": {},
   "outputs": [],
   "source": [
    "depth_proc = Processor(\"midas\")\n",
    "control_img = depth_proc(img, to_bytes=False)\n",
    "control_img"
   ]
  },
  {
   "cell_type": "code",
   "execution_count": null,
   "metadata": {},
   "outputs": [],
   "source": [
    "output = pipe(\n",
    "    prompt,\n",
    "    control_img,\n",
    "    negative_prompt=[\"monochrome, lowres, bad anatomy, worst quality, low quality\"] * 4,\n",
    "    num_inference_steps=20,\n",
    "    generator=generator,\n",
    "    width=512, height=512\n",
    ")\n",
    "image_grid(output.images, 2, 2)"
   ]
  },
  {
   "cell_type": "code",
   "execution_count": null,
   "metadata": {},
   "outputs": [],
   "source": []
  }
 ],
 "metadata": {
  "kernelspec": {
   "display_name": "Python 3 (ipykernel)",
   "language": "python",
   "name": "python3"
  },
  "language_info": {
   "codemirror_mode": {
    "name": "ipython",
    "version": 3
   },
   "file_extension": ".py",
   "mimetype": "text/x-python",
   "name": "python",
   "nbconvert_exporter": "python",
   "pygments_lexer": "ipython3",
   "version": "3.8.10"
  }
 },
 "nbformat": 4,
 "nbformat_minor": 2
}
