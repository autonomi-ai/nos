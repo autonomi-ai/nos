{
 "cells": [
  {
   "cell_type": "code",
   "execution_count": null,
   "id": "28ae8bc8",
   "metadata": {},
   "outputs": [],
   "source": [
    "from nos.client import InferenceClient, TaskType"
   ]
  },
  {
   "cell_type": "code",
   "execution_count": null,
   "id": "9c91745d",
   "metadata": {},
   "outputs": [],
   "source": [
    "client = InferenceClient()"
   ]
  },
  {
   "cell_type": "code",
   "execution_count": null,
   "id": "9054cb5f",
   "metadata": {},
   "outputs": [],
   "source": [
    "models = client.ListModels()\n",
    "models"
   ]
  },
  {
   "cell_type": "code",
   "execution_count": null,
   "id": "ae711641",
   "metadata": {},
   "outputs": [],
   "source": [
    "client.GetModelInfo(models[0]).signature"
   ]
  },
  {
   "cell_type": "code",
   "execution_count": null,
   "id": "e388b67b",
   "metadata": {},
   "outputs": [],
   "source": [
    "from PIL import Image\n",
    "\n",
    "img = Image.open(\"test.jpg\")\n",
    "predictions = client.Run(task, model_name, images=img)"
   ]
  },
  {
   "cell_type": "code",
   "execution_count": null,
   "id": "d8417340",
   "metadata": {},
   "outputs": [],
   "source": [
    "sd = client.Module(TaskType.IMAGE_GENERATION, \"stabilityai/stable-diffusion-2\")"
   ]
  },
  {
   "cell_type": "code",
   "execution_count": null,
   "id": "a507f84b",
   "metadata": {},
   "outputs": [],
   "source": [
    "predictions = sd(prompts=\"fox in the rain at night, 4k, hdr\")\n",
    "predictions[\"images\"]"
   ]
  },
  {
   "cell_type": "code",
   "execution_count": null,
   "id": "6871718f",
   "metadata": {},
   "outputs": [],
   "source": [
    "fastrcnn = client.Module(TaskType.OBJECT_DETECTION_2D, \"torchvision/fasterrcnn_mobilenet_v3_large_320_fpn\")"
   ]
  },
  {
   "cell_type": "code",
   "execution_count": null,
   "id": "982a7720",
   "metadata": {},
   "outputs": [],
   "source": [
    "results = fastrcnn(images=result[\"images\"][0])"
   ]
  },
  {
   "cell_type": "code",
   "execution_count": null,
   "id": "185bb330",
   "metadata": {},
   "outputs": [],
   "source": [
    "results"
   ]
  },
  {
   "cell_type": "code",
   "execution_count": null,
   "id": "4bf9ff6a",
   "metadata": {},
   "outputs": [],
   "source": []
  }
 ],
 "metadata": {
  "kernelspec": {
   "display_name": "Python 3 (ipykernel)",
   "language": "python",
   "name": "python3"
  },
  "language_info": {
   "codemirror_mode": {
    "name": "ipython",
    "version": 3
   },
   "file_extension": ".py",
   "mimetype": "text/x-python",
   "name": "python",
   "nbconvert_exporter": "python",
   "pygments_lexer": "ipython3",
   "version": "3.8.10"
  }
 },
 "nbformat": 4,
 "nbformat_minor": 5
}
