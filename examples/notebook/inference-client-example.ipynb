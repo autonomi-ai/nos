{
 "cells": [
  {
   "cell_type": "code",
   "execution_count": null,
   "id": "28ae8bc8",
   "metadata": {},
   "outputs": [],
   "source": [
    "import cv2\n",
    "import numpy as np\n",
    "import pandas as pd\n",
    "\n",
    "from IPython.display import display\n",
    "pd.set_option('display.max_colwidth', 0)\n",
    "\n",
    "from nos.client import InferenceClient, TaskType"
   ]
  },
  {
   "cell_type": "markdown",
   "id": "87c17875",
   "metadata": {},
   "source": [
    "### Inference Client API"
   ]
  },
  {
   "cell_type": "code",
   "execution_count": null,
   "id": "9c91745d",
   "metadata": {},
   "outputs": [],
   "source": [
    "client = InferenceClient()"
   ]
  },
  {
   "cell_type": "code",
   "execution_count": null,
   "id": "b5537b51",
   "metadata": {},
   "outputs": [],
   "source": [
    "client.WaitForServer()"
   ]
  },
  {
   "cell_type": "code",
   "execution_count": null,
   "id": "9abc3b58",
   "metadata": {},
   "outputs": [],
   "source": [
    "client.IsHealthy()"
   ]
  },
  {
   "cell_type": "markdown",
   "id": "8930d090",
   "metadata": {},
   "source": [
    "### List all available models"
   ]
  },
  {
   "cell_type": "code",
   "execution_count": null,
   "id": "9054cb5f",
   "metadata": {},
   "outputs": [],
   "source": [
    "models = client.ListModels()\n",
    "models_df = pd.DataFrame(models)\n",
    "models_df"
   ]
  },
  {
   "cell_type": "markdown",
   "id": "802bb542",
   "metadata": {},
   "source": [
    "### Get model input/output signatures"
   ]
  },
  {
   "cell_type": "code",
   "execution_count": null,
   "id": "ae711641",
   "metadata": {},
   "outputs": [],
   "source": [
    "signatures = [client.GetModelInfo(spec).signature for spec in models]\n",
    "pd.DataFrame(signatures)"
   ]
  },
  {
   "cell_type": "markdown",
   "id": "d2271ff2",
   "metadata": {},
   "source": [
    "### Load image"
   ]
  },
  {
   "cell_type": "code",
   "execution_count": null,
   "id": "e388b67b",
   "metadata": {},
   "outputs": [],
   "source": [
    "import requests\n",
    "from PIL import Image\n",
    "\n",
    "url = \"https://raw.githubusercontent.com/open-mmlab/mmdetection/main/demo/demo.jpg\"\n",
    "img = Image.open(requests.get(url, stream=True).raw).resize((640, 480))\n",
    "img"
   ]
  },
  {
   "cell_type": "markdown",
   "id": "82c8d647",
   "metadata": {},
   "source": [
    "## 1. Object detection"
   ]
  },
  {
   "cell_type": "code",
   "execution_count": null,
   "id": "26edddc8",
   "metadata": {},
   "outputs": [],
   "source": [
    "images = [img]\n",
    "predictions = client.Run(TaskType.OBJECT_DETECTION_2D, \"yolox/nano\", images=images)\n",
    "for idx, (bboxes, scores, labels) in enumerate(zip(predictions[\"bboxes\"], predictions[\"scores\"], predictions[\"scores\"])):\n",
    "    print(idx, bboxes.shape, scores.shape, labels.shape)"
   ]
  },
  {
   "cell_type": "markdown",
   "id": "a5c60685",
   "metadata": {},
   "source": [
    "### 1a. Visualize object detection"
   ]
  },
  {
   "cell_type": "code",
   "execution_count": null,
   "id": "daab9dec",
   "metadata": {},
   "outputs": [],
   "source": [
    "def visualize_det2d(img: np.ndarray, bboxes: np.ndarray, labels: np.ndarray) -> np.ndarray:\n",
    "    vis = np.asarray(img).copy()\n",
    "    for bbox, label in zip(bboxes.astype(np.int32), labels):\n",
    "        cv2.rectangle(vis, (bbox[0], bbox[1]), (bbox[2], bbox[3]), (0, 255, 0), 2)\n",
    "    return vis\n",
    "\n",
    "for idx, (img, bboxes, scores, labels) in enumerate(zip(images, predictions[\"bboxes\"], predictions[\"scores\"], predictions[\"scores\"])):\n",
    "    display(Image.fromarray(visualize_det2d(img, bboxes, labels)))"
   ]
  },
  {
   "cell_type": "markdown",
   "id": "f4b6f397",
   "metadata": {},
   "source": [
    "### 1b. Benchmark object detection"
   ]
  },
  {
   "cell_type": "code",
   "execution_count": null,
   "id": "9cc9e059",
   "metadata": {},
   "outputs": [],
   "source": [
    "%%timeit -n 10\n",
    "predictions = client.Run(TaskType.OBJECT_DETECTION_2D, \"yolox/nano\", images=images)"
   ]
  },
  {
   "cell_type": "markdown",
   "id": "f49c3644",
   "metadata": {},
   "source": [
    "## 2. Text-to-image generation with StableDiffusionV2"
   ]
  },
  {
   "cell_type": "code",
   "execution_count": null,
   "id": "d8417340",
   "metadata": {},
   "outputs": [],
   "source": [
    "prompts = [\"fox jumped over the moon\", \"fox jumped over the sun\"]\n",
    "predictions = client.Run(TaskType.IMAGE_GENERATION, \"stabilityai/stable-diffusion-2\", \n",
    "                         prompts=prompts, width=512, height=512, num_images=1)"
   ]
  },
  {
   "cell_type": "code",
   "execution_count": null,
   "id": "56e8219d",
   "metadata": {},
   "outputs": [],
   "source": [
    "for prompt, image in zip(prompts, predictions[\"images\"]):\n",
    "    print(prompt, image.size)\n",
    "    display(image)"
   ]
  },
  {
   "cell_type": "markdown",
   "id": "bbcd0dc5",
   "metadata": {},
   "source": [
    "### Run image-embedding with CLIP"
   ]
  },
  {
   "cell_type": "code",
   "execution_count": null,
   "id": "fbbdc8bd",
   "metadata": {},
   "outputs": [],
   "source": [
    "predictions = client.Run(TaskType.IMAGE_EMBEDDING, \"openai/clip\", images=[img, img])\n",
    "predictions[\"embedding\"].shape"
   ]
  },
  {
   "cell_type": "markdown",
   "id": "333b5bd0",
   "metadata": {},
   "source": [
    "### Run text-embedding with CLIP"
   ]
  },
  {
   "cell_type": "code",
   "execution_count": null,
   "id": "afe462f9",
   "metadata": {},
   "outputs": [],
   "source": [
    "predictions = client.Run(TaskType.TEXT_EMBEDDING, \"openai/clip\", texts=[\"fox jumped over the mooon\", \"fox jumped over the sun\"])\n",
    "predictions[\"embedding\"].shape"
   ]
  },
  {
   "cell_type": "markdown",
   "id": "0e4a2b96",
   "metadata": {},
   "source": [
    "### `client.Module` Interface\n",
    "\n",
    "Get model handles for simpler remote-model execution. In this case, the following line re-uses the SDv2 model instantiated earlier.  "
   ]
  },
  {
   "cell_type": "code",
   "execution_count": null,
   "id": "a507f84b",
   "metadata": {},
   "outputs": [],
   "source": [
    "sdv2 = client.Module(TaskType.IMAGE_GENERATION, \"stabilityai/stable-diffusion-2\")\n",
    "predictions = sdv2(prompts=[\"fox in the rain at night, 4k, hdr\"], width=512, height=512, num_images=1)\n",
    "display(predictions[\"images\"][0])"
   ]
  },
  {
   "cell_type": "code",
   "execution_count": null,
   "id": "6871718f",
   "metadata": {},
   "outputs": [],
   "source": [
    "det2d = client.Module(TaskType.OBJECT_DETECTION_2D, \"yolox/small\")\n",
    "predictions = det2d(images=[img])\n",
    "\n",
    "for idx, (img, bboxes, scores, labels) in enumerate(zip(images, predictions[\"bboxes\"], predictions[\"scores\"], predictions[\"scores\"])):\n",
    "    display(Image.fromarray(visualize_det2d(img, bboxes, labels)))"
   ]
  }
 ],
 "metadata": {
  "kernelspec": {
   "display_name": "Python 3 (ipykernel)",
   "language": "python",
   "name": "python3"
  },
  "language_info": {
   "codemirror_mode": {
    "name": "ipython",
    "version": 3
   },
   "file_extension": ".py",
   "mimetype": "text/x-python",
   "name": "python",
   "nbconvert_exporter": "python",
   "pygments_lexer": "ipython3",
   "version": "3.8.10"
  }
 },
 "nbformat": 4,
 "nbformat_minor": 5
}
