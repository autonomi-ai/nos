{
 "cells": [
  {
   "cell_type": "code",
   "execution_count": null,
   "id": "28ae8bc8",
   "metadata": {},
   "outputs": [],
   "source": [
    "from nos.client import InferenceClient, TaskType"
   ]
  },
  {
   "cell_type": "markdown",
   "id": "87c17875",
   "metadata": {},
   "source": [
    "### Inference Client API"
   ]
  },
  {
   "cell_type": "code",
   "execution_count": null,
   "id": "9c91745d",
   "metadata": {},
   "outputs": [],
   "source": [
    "client = InferenceClient()"
   ]
  },
  {
   "cell_type": "code",
   "execution_count": null,
   "id": "9abc3b58",
   "metadata": {},
   "outputs": [],
   "source": [
    "client.IsHealthy()"
   ]
  },
  {
   "cell_type": "code",
   "execution_count": null,
   "id": "b5537b51",
   "metadata": {},
   "outputs": [],
   "source": [
    "client.WaitForServer()"
   ]
  },
  {
   "cell_type": "markdown",
   "id": "8930d090",
   "metadata": {},
   "source": [
    "### List all available models"
   ]
  },
  {
   "cell_type": "code",
   "execution_count": null,
   "id": "9054cb5f",
   "metadata": {},
   "outputs": [],
   "source": [
    "models = client.ListModels()\n",
    "models"
   ]
  },
  {
   "cell_type": "markdown",
   "id": "802bb542",
   "metadata": {},
   "source": [
    "### Get model input/output signatures"
   ]
  },
  {
   "cell_type": "code",
   "execution_count": null,
   "id": "ae711641",
   "metadata": {},
   "outputs": [],
   "source": [
    "for spec in models:\n",
    "    sig = client.GetModelInfo(spec).signature\n",
    "    print(\"-\" * 80)\n",
    "    print(f\"task={spec.task}, name={spec.name}\")\n",
    "    \n",
    "    inputs, outputs = sig.get_inputs_spec(), sig.get_outputs_spec()\n",
    "    print(f\"inputs: {inputs}\")\n",
    "    print(f\"outputs: {outputs}\")"
   ]
  },
  {
   "cell_type": "markdown",
   "id": "d2271ff2",
   "metadata": {},
   "source": [
    "### Load image"
   ]
  },
  {
   "cell_type": "code",
   "execution_count": null,
   "id": "e388b67b",
   "metadata": {},
   "outputs": [],
   "source": [
    "import requests\n",
    "from PIL import Image\n",
    "\n",
    "url = \"https://raw.githubusercontent.com/open-mmlab/mmdetection/main/demo/demo.jpg\"\n",
    "img = Image.open(requests.get(url, stream=True).raw)"
   ]
  },
  {
   "cell_type": "markdown",
   "id": "f49c3644",
   "metadata": {},
   "source": [
    "### Run text-to-image generation with StableDiffusionV2"
   ]
  },
  {
   "cell_type": "code",
   "execution_count": null,
   "id": "d8417340",
   "metadata": {},
   "outputs": [],
   "source": [
    "prompts = [\"fox jumped over the moon\", \"fox jumped over the sun\"]\n",
    "predictions = client.Run(TaskType.IMAGE_GENERATION, \"stabilityai/stable-diffusion-2\", \n",
    "                         prompts=prompts, width=512, height=512, num_images=1)\n",
    "for prompt, image in zip(prompts, predictions[\"images\"]):\n",
    "    print(prompt, image.size)"
   ]
  },
  {
   "cell_type": "markdown",
   "id": "bbcd0dc5",
   "metadata": {},
   "source": [
    "### Run image-embedding with CLIP"
   ]
  },
  {
   "cell_type": "code",
   "execution_count": null,
   "id": "fbbdc8bd",
   "metadata": {},
   "outputs": [],
   "source": [
    "predictions = client.Run(TaskType.IMAGE_EMBEDDING, \"openai/clip\", images=[img, img])\n",
    "predictions[\"embedding\"].shape"
   ]
  },
  {
   "cell_type": "markdown",
   "id": "333b5bd0",
   "metadata": {},
   "source": [
    "### Run text-embedding with CLIP"
   ]
  },
  {
   "cell_type": "code",
   "execution_count": null,
   "id": "afe462f9",
   "metadata": {},
   "outputs": [],
   "source": [
    "predictions = client.Run(TaskType.TEXT_EMBEDDING, \"openai/clip\", texts=[\"fox jumped over the mooon\", \"fox jumped over the sun\"])\n",
    "predictions[\"embedding\"].shape"
   ]
  },
  {
   "cell_type": "markdown",
   "id": "82c8d647",
   "metadata": {},
   "source": [
    "### Run object detection with FasterRCNN"
   ]
  },
  {
   "cell_type": "code",
   "execution_count": null,
   "id": "26edddc8",
   "metadata": {},
   "outputs": [],
   "source": [
    "predictions = client.Run(TaskType.OBJECT_DETECTION_2D, \"torchvision/fasterrcnn_mobilenet_v3_large_320_fpn\", images=[img])\n",
    "for idx, (bboxes, scores, labels) in enumerate(zip(predictions[\"bboxes\"], predictions[\"scores\"], predictions[\"scores\"])):\n",
    "    print(idx, bboxes.shape, scores.shape, labels.shape)"
   ]
  },
  {
   "cell_type": "markdown",
   "id": "0e4a2b96",
   "metadata": {},
   "source": [
    "### `client.Module` Interface\n",
    "\n",
    "Get model handles for simpler remote-model execution. In this case, the following line re-uses the SDv2 model instantiated earlier.  "
   ]
  },
  {
   "cell_type": "code",
   "execution_count": null,
   "id": "a507f84b",
   "metadata": {},
   "outputs": [],
   "source": [
    "sdv2 = client.Module(TaskType.IMAGE_GENERATION, \"stabilityai/stable-diffusion-2\")\n",
    "predictions = sdv2(prompts=[\"fox in the rain at night, 4k, hdr\"], width=512, height=512, num_images=1)\n",
    "predictions[\"images\"]"
   ]
  },
  {
   "cell_type": "code",
   "execution_count": null,
   "id": "6871718f",
   "metadata": {},
   "outputs": [],
   "source": [
    "fastrcnn = client.Module(TaskType.OBJECT_DETECTION_2D, \"torchvision/fasterrcnn_mobilenet_v3_large_320_fpn\")\n",
    "predictions = fastrcnn(images=[img])\n",
    "for idx, (bboxes, scores, labels) in enumerate(zip(predictions[\"bboxes\"], predictions[\"scores\"], predictions[\"scores\"])):\n",
    "    print(idx, bboxes.shape, scores.shape, labels.shape)"
   ]
  }
 ],
 "metadata": {
  "kernelspec": {
   "display_name": "Python 3 (ipykernel)",
   "language": "python",
   "name": "python3"
  },
  "language_info": {
   "codemirror_mode": {
    "name": "ipython",
    "version": 3
   },
   "file_extension": ".py",
   "mimetype": "text/x-python",
   "name": "python",
   "nbconvert_exporter": "python",
   "pygments_lexer": "ipython3",
   "version": "3.8.10"
  }
 },
 "nbformat": 4,
 "nbformat_minor": 5
}
