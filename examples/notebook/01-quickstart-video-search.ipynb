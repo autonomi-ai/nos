{
 "cells": [
  {
   "cell_type": "markdown",
   "metadata": {},
   "source": [
    "<img src=\"https://drive.google.com/uc?export=view&id=1JIIlkTWa2xbft5bTpzhGK1BxYL83bJNU\" width=\"800\"/>"
   ]
  },
  {
   "cell_type": "code",
   "execution_count": null,
   "metadata": {},
   "outputs": [],
   "source": [
    "from IPython.display import HTML, display\n",
    "display(HTML(\"<style>.container { width:100% !important; }</style>\"))"
   ]
  },
  {
   "cell_type": "markdown",
   "metadata": {
    "editable": true,
    "slideshow": {
     "slide_type": ""
    },
    "tags": []
   },
   "source": [
    "# 🔥 Video Search Demo\n",
    "---"
   ]
  },
  {
   "cell_type": "markdown",
   "metadata": {},
   "source": [
    "In this demo, we’ll use NOS to build an end-to-end semantic video search application. Let's first start the nos server."
   ]
  },
  {
   "cell_type": "code",
   "execution_count": null,
   "metadata": {},
   "outputs": [],
   "source": [
    "import nos\n",
    "\n",
    "nos.init(runtime=\"auto\")"
   ]
  },
  {
   "cell_type": "markdown",
   "metadata": {},
   "source": [
    "#### Frame Inference\n",
    "\n",
    "Let's embed the video frame by frame with NOS. We'll start by connecting a client to the NOS server:"
   ]
  },
  {
   "cell_type": "code",
   "execution_count": null,
   "metadata": {
    "tags": []
   },
   "outputs": [],
   "source": [
    "from nos.common.io.video.opencv import VideoReader\n",
    "from nos.client import Client, TaskType\n",
    "\n",
    "client = Client()\n",
    "client.WaitForServer()\n",
    "client.IsHealthy()"
   ]
  },
  {
   "cell_type": "markdown",
   "metadata": {},
   "source": [
    "Now lets use the client to embed the video frame by frame into a stack of feature vectors. This should take a couple of minutes:"
   ]
  },
  {
   "cell_type": "code",
   "execution_count": null,
   "metadata": {},
   "outputs": [],
   "source": [
    "import requests\n",
    "from nos.common.io.video.opencv import VideoReader\n",
    "from nos.constants import NOS_CACHE_DIR\n",
    "\n",
    "# Download the remote video\n",
    "URL = \"https://zackakil.github.io/video-intelligence-api-visualiser/assets/test_video.mp4\"\n",
    "FILENAME = NOS_CACHE_DIR / \"test_data/test_video.mp4\"\n",
    "if not FILENAME.exists():\n",
    "    FILENAME.parent.mkdir(parents=True, exist_ok=True)\n",
    "    with open(str(FILENAME), \"wb\") as f:\n",
    "        f.write(requests.get(URL).content)\n",
    "\n",
    "# Load the video\n",
    "video = VideoReader(str(FILENAME))\n",
    "print(video)"
   ]
  },
  {
   "cell_type": "code",
   "execution_count": null,
   "metadata": {},
   "outputs": [],
   "source": [
    "from IPython.display import Video\n",
    "\n",
    "Video(str(FILENAME), width=W, height=H, embed=True)"
   ]
  },
  {
   "cell_type": "code",
   "execution_count": null,
   "metadata": {
    "tags": []
   },
   "outputs": [],
   "source": [
    "import numpy as np\n",
    "from PIL import Image\n",
    "\n",
    "from nos.common import tqdm\n",
    "from nos.test.utils import get_benchmark_video\n",
    "\n",
    "# Initialize the openai/clip model as a module\n",
    "clip = client.Module(\"openai/clip\", shm=True)\n",
    "\n",
    "# Extract features from the video on a frame-level basis\n",
    "# Note: we resize the image to 224x224 before encoding\n",
    "features = [\n",
    "    clip.encode_image(images=Image.fromarray(img).resize((224, 224)))[\"embedding\"] \n",
    "    for img in tqdm(video)\n",
    "]\n",
    "\n",
    "# Stack and normalize the features so that they are unit vectors\n",
    "video_features = np.vstack(features)\n",
    "video_features /= np.linalg.norm(video_features, axis=1, keepdims=True)"
   ]
  },
  {
   "cell_type": "markdown",
   "metadata": {},
   "source": [
    "Let's define our search function. we'll embed the text query (using the NOS openai/clip endpoint) and take the dot product with the video features to generate per-frame similarity scores before returning the top result."
   ]
  },
  {
   "cell_type": "code",
   "execution_count": null,
   "metadata": {
    "tags": []
   },
   "outputs": [],
   "source": [
    "def search_video(query: str, video_features: np.ndarray, topk: int = 3):\n",
    "    \"\"\"Semantic video search demo in 8 lines of code\"\"\"\n",
    "    # Encode text and normalize\n",
    "    text_features = clip.encode_text(texts=query)[\"embedding\"].copy()\n",
    "    text_features /= np.linalg.norm(text_features, axis=1, keepdims=True)\n",
    "\n",
    "    # Compute the similarity between the search query and each video frame\n",
    "    similarities = (video_features @ text_features.T)\n",
    "    best_photo_idx = similarities.flatten().argsort()[-topk:][::-1]\n",
    "    \n",
    "    # Display the top k frames\n",
    "    results = np.hstack([video[int(frame_id)] for frame_id in best_photo_idx])\n",
    "    filepath = '_'.join(query.split(' ')) + '.png'\n",
    "    display(Image.fromarray(results).resize((600, 400)))"
   ]
  },
  {
   "cell_type": "markdown",
   "metadata": {},
   "source": [
    "\n"
   ]
  },
  {
   "cell_type": "markdown",
   "metadata": {},
   "source": [
    "Now let's try out a few queries:"
   ]
  },
  {
   "cell_type": "code",
   "execution_count": null,
   "metadata": {
    "tags": []
   },
   "outputs": [],
   "source": [
    "search_video(\"bakery with bread on the shelves\", video_features, topk=1)"
   ]
  },
  {
   "cell_type": "code",
   "execution_count": null,
   "metadata": {
    "tags": []
   },
   "outputs": [],
   "source": [
    "search_video(\"old woman with hat\", video_features, topk=1)"
   ]
  },
  {
   "cell_type": "code",
   "execution_count": null,
   "metadata": {},
   "outputs": [],
   "source": [
    "search_video(\"three men together\", video_features, topk=1)"
   ]
  },
  {
   "cell_type": "code",
   "execution_count": null,
   "metadata": {
    "tags": []
   },
   "outputs": [],
   "source": [
    "search_video(\"bridge over river\", video_features, topk=1)"
   ]
  }
 ],
 "metadata": {
  "kernelspec": {
   "display_name": "Python 3 (ipykernel)",
   "language": "python",
   "name": "python3"
  },
  "language_info": {
   "codemirror_mode": {
    "name": "ipython",
    "version": 3
   },
   "file_extension": ".py",
   "mimetype": "text/x-python",
   "name": "python",
   "nbconvert_exporter": "python",
   "pygments_lexer": "ipython3",
   "version": "3.8.10"
  }
 },
 "nbformat": 4,
 "nbformat_minor": 4
}
