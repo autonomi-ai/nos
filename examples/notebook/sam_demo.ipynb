{
 "cells": [
  {
   "cell_type": "code",
   "execution_count": null,
   "id": "28ae8bc8",
   "metadata": {
    "tags": []
   },
   "outputs": [],
   "source": [
    "from nos.client import InferenceClient, TaskType\n",
    "\n",
    "# Create a  client that connects to the inference server via gRPC (50051)\n",
    "client = InferenceClient()"
   ]
  },
  {
   "cell_type": "code",
   "execution_count": null,
   "id": "7f6f08d7",
   "metadata": {},
   "outputs": [],
   "source": [
    "import nos\n",
    "nos.__version__"
   ]
  },
  {
   "cell_type": "code",
   "execution_count": null,
   "id": "9ea037db-81f5-4304-9ce7-2fe6fa808847",
   "metadata": {},
   "outputs": [],
   "source": [
    "# We provide helper functions to wait for the server to be ready\n",
    "# if the server is simultaneously spun up in a separate process.\n",
    "client.WaitForServer()"
   ]
  },
  {
   "cell_type": "code",
   "execution_count": null,
   "id": "3eeacf45-8277-450f-b557-2b33bfa976ce",
   "metadata": {},
   "outputs": [],
   "source": [
    "# Finally, we can check if the server is healthy.\n",
    "client.IsHealthy()"
   ]
  },
  {
   "cell_type": "code",
   "execution_count": null,
   "id": "cf808644-cb49-4127-a816-6196a0bdadd7",
   "metadata": {},
   "outputs": [],
   "source": [
    "import pandas as pd\n",
    "pd.set_option('display.max_colwidth', 0)\n",
    "\n",
    "models = client.ListModels()\n",
    "models_df = pd.DataFrame(models)\n",
    "models_df"
   ]
  },
  {
   "cell_type": "code",
   "execution_count": null,
   "id": "aaa88939",
   "metadata": {},
   "outputs": [],
   "source": [
    "import requests\n",
    "from PIL import Image\n",
    " \n",
    "url = \"https://raw.githubusercontent.com/open-mmlab/mmdetection/main/demo/demo.jpg\"\n",
    "img = Image.open(requests.get(url, stream=True).raw).resize((640, 480))\n",
    "img"
   ]
  },
  {
   "cell_type": "code",
   "execution_count": null,
   "id": "543a4e9c",
   "metadata": {},
   "outputs": [],
   "source": [
    "# Now lets visualize the masks:\n",
    "!pip install matplotlib"
   ]
  },
  {
   "cell_type": "code",
   "execution_count": null,
   "id": "bf671f6e",
   "metadata": {},
   "outputs": [],
   "source": [
    "import matplotlib.pyplot as plt\n",
    "from PIL import Image\n",
    "import numpy as np\n",
    " \n",
    "def show_mask(mask, ax, random_color=False):\n",
    "    if random_color:\n",
    "        color = np.concatenate([np.random.random(3), np.array([0.6])], axis=0)\n",
    "    else:\n",
    "        color = np.array([30 / 255, 144 / 255, 255 / 255, 0.6])\n",
    "    h, w = mask.shape[-2:]\n",
    "    mask_image = mask[0][0].reshape(h, w, 1) * color.reshape(1, 1, -1)\n",
    "    ax.imshow(mask_image)\n",
    "\n",
    "\n",
    "plt.imshow(np.array(img))\n",
    "ax = plt.gca()\n",
    "masks = predictions['masks']\n",
    "print(f'total masks: {len(masks)}')\n",
    "for mask in masks:\n",
    "    show_mask(mask, ax=ax, random_color=True)\n",
    "plt.axis(\"off\")\n",
    "plt.show()"
   ]
  }
 ],
 "metadata": {
  "kernelspec": {
   "display_name": "notebooks",
   "language": "python",
   "name": "notebooks"
  },
  "language_info": {
   "codemirror_mode": {
    "name": "ipython",
    "version": 3
   },
   "file_extension": ".py",
   "mimetype": "text/x-python",
   "name": "python",
   "nbconvert_exporter": "python",
   "pygments_lexer": "ipython3",
   "version": "3.11.4"
  }
 },
 "nbformat": 4,
 "nbformat_minor": 5
}
